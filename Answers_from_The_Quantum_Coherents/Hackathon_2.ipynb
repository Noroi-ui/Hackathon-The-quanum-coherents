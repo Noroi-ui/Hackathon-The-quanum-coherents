{
  "nbformat": 4,
  "nbformat_minor": 0,
  "metadata": {
    "colab": {
      "provenance": [],
      "authorship_tag": "ABX9TyNcCAKVYWVC086i3ZcrKGKT",
      "include_colab_link": true
    },
    "kernelspec": {
      "name": "python3",
      "display_name": "Python 3"
    },
    "language_info": {
      "name": "python"
    }
  },
  "cells": [
    {
      "cell_type": "markdown",
      "metadata": {
        "id": "view-in-github",
        "colab_type": "text"
      },
      "source": [
        "<a href=\"https://colab.research.google.com/github/Noroi-ui/Hackaton/blob/main/Hackathon_2.ipynb\" target=\"_parent\"><img src=\"https://colab.research.google.com/assets/colab-badge.svg\" alt=\"Open In Colab\"/></a>"
      ]
    },
    {
      "cell_type": "markdown",
      "source": [
        "# Introduction to Applications of Quantum Computing to Quantum Chemistry (October 7-11)"
      ],
      "metadata": {
        "id": "aspv7kwb2ouM"
      }
    },
    {
      "cell_type": "markdown",
      "source": [
        "##(2) [Challenge] Ground state energy for molecule and spin system with Variational Quantum Algorithms and Trotterization."
      ],
      "metadata": {
        "id": "PD6AZBWy26Kc"
      }
    },
    {
      "cell_type": "markdown",
      "source": [
        "\n",
        "###(a)"
      ],
      "metadata": {
        "id": "MytPRm2f2cUY"
      }
    },
    {
      "cell_type": "code",
      "execution_count": 3,
      "metadata": {
        "colab": {
          "base_uri": "https://localhost:8080/"
        },
        "id": "cQjrtk8eQHSe",
        "outputId": "ebb6a58e-3b05-41d8-fd1f-a89397438c94"
      },
      "outputs": [
        {
          "output_type": "stream",
          "name": "stdout",
          "text": [
            "Collecting pennylane\n",
            "  Downloading PennyLane-0.38.0-py3-none-any.whl.metadata (9.3 kB)\n",
            "Requirement already satisfied: numpy<2.0 in /usr/local/lib/python3.10/dist-packages (from pennylane) (1.26.4)\n",
            "Requirement already satisfied: scipy in /usr/local/lib/python3.10/dist-packages (from pennylane) (1.13.1)\n",
            "Requirement already satisfied: networkx in /usr/local/lib/python3.10/dist-packages (from pennylane) (3.4)\n",
            "Collecting rustworkx>=0.14.0 (from pennylane)\n",
            "  Downloading rustworkx-0.15.1-cp38-abi3-manylinux_2_17_x86_64.manylinux2014_x86_64.whl.metadata (9.9 kB)\n",
            "Requirement already satisfied: autograd in /usr/local/lib/python3.10/dist-packages (from pennylane) (1.7.0)\n",
            "Requirement already satisfied: toml in /usr/local/lib/python3.10/dist-packages (from pennylane) (0.10.2)\n",
            "Collecting appdirs (from pennylane)\n",
            "  Downloading appdirs-1.4.4-py2.py3-none-any.whl.metadata (9.0 kB)\n",
            "Collecting autoray>=0.6.11 (from pennylane)\n",
            "  Downloading autoray-0.6.12-py3-none-any.whl.metadata (5.7 kB)\n",
            "Requirement already satisfied: cachetools in /usr/local/lib/python3.10/dist-packages (from pennylane) (5.5.0)\n",
            "Collecting pennylane-lightning>=0.38 (from pennylane)\n",
            "  Downloading PennyLane_Lightning-0.38.0-cp310-cp310-manylinux_2_28_x86_64.whl.metadata (26 kB)\n",
            "Requirement already satisfied: requests in /usr/local/lib/python3.10/dist-packages (from pennylane) (2.32.3)\n",
            "Requirement already satisfied: typing-extensions in /usr/local/lib/python3.10/dist-packages (from pennylane) (4.12.2)\n",
            "Requirement already satisfied: packaging in /usr/local/lib/python3.10/dist-packages (from pennylane) (24.1)\n",
            "Requirement already satisfied: charset-normalizer<4,>=2 in /usr/local/lib/python3.10/dist-packages (from requests->pennylane) (3.4.0)\n",
            "Requirement already satisfied: idna<4,>=2.5 in /usr/local/lib/python3.10/dist-packages (from requests->pennylane) (3.10)\n",
            "Requirement already satisfied: urllib3<3,>=1.21.1 in /usr/local/lib/python3.10/dist-packages (from requests->pennylane) (2.2.3)\n",
            "Requirement already satisfied: certifi>=2017.4.17 in /usr/local/lib/python3.10/dist-packages (from requests->pennylane) (2024.8.30)\n",
            "Downloading PennyLane-0.38.0-py3-none-any.whl (1.9 MB)\n",
            "\u001b[2K   \u001b[90m━━━━━━━━━━━━━━━━━━━━━━━━━━━━━━━━━━━━━━━━\u001b[0m \u001b[32m1.9/1.9 MB\u001b[0m \u001b[31m22.2 MB/s\u001b[0m eta \u001b[36m0:00:00\u001b[0m\n",
            "\u001b[?25hDownloading autoray-0.6.12-py3-none-any.whl (50 kB)\n",
            "\u001b[2K   \u001b[90m━━━━━━━━━━━━━━━━━━━━━━━━━━━━━━━━━━━━━━━━\u001b[0m \u001b[32m51.0/51.0 kB\u001b[0m \u001b[31m3.3 MB/s\u001b[0m eta \u001b[36m0:00:00\u001b[0m\n",
            "\u001b[?25hDownloading PennyLane_Lightning-0.38.0-cp310-cp310-manylinux_2_28_x86_64.whl (15.3 MB)\n",
            "\u001b[2K   \u001b[90m━━━━━━━━━━━━━━━━━━━━━━━━━━━━━━━━━━━━━━━━\u001b[0m \u001b[32m15.3/15.3 MB\u001b[0m \u001b[31m83.8 MB/s\u001b[0m eta \u001b[36m0:00:00\u001b[0m\n",
            "\u001b[?25hDownloading rustworkx-0.15.1-cp38-abi3-manylinux_2_17_x86_64.manylinux2014_x86_64.whl (2.0 MB)\n",
            "\u001b[2K   \u001b[90m━━━━━━━━━━━━━━━━━━━━━━━━━━━━━━━━━━━━━━━━\u001b[0m \u001b[32m2.0/2.0 MB\u001b[0m \u001b[31m65.2 MB/s\u001b[0m eta \u001b[36m0:00:00\u001b[0m\n",
            "\u001b[?25hDownloading appdirs-1.4.4-py2.py3-none-any.whl (9.6 kB)\n",
            "Installing collected packages: appdirs, rustworkx, autoray, pennylane-lightning, pennylane\n",
            "Successfully installed appdirs-1.4.4 autoray-0.6.12 pennylane-0.38.0 pennylane-lightning-0.38.0 rustworkx-0.15.1\n"
          ]
        }
      ],
      "source": [
        "!pip install pennylane"
      ]
    },
    {
      "cell_type": "code",
      "source": [
        "import pennylane as qml\n",
        "from pennylane import numpy as np\n",
        "from pennylane import qchem"
      ],
      "metadata": {
        "id": "7DQew5DyZfwz"
      },
      "execution_count": 4,
      "outputs": []
    },
    {
      "cell_type": "code",
      "source": [
        "# Define the symbols that describe the molecule. In this case it is H_2\n",
        "symbols  = [\"H\",\"H\"]"
      ],
      "metadata": {
        "id": "gDzLHzuhZuRe"
      },
      "execution_count": 5,
      "outputs": []
    },
    {
      "cell_type": "code",
      "source": [
        "# Function that calculates the energy eigenvalues for given coordinates\n",
        "\n",
        "def VQE_H2(coordinates):\n",
        "\n",
        "  # Here it is defined molecule and hamiltonian\n",
        "\n",
        "  molecule = qchem.Molecule(symbols,coordinates, charge=0, mult=1, basis_name='sto-3g')\n",
        "  hamiltonian, qubits = qchem.molecular_hamiltonian(molecule, mapping='jordan_wigner')\n",
        "\n",
        "  # Here it is defined the hartree-fock states\n",
        "  hf = qchem.hf_state(electrons = 2,orbitals =qubits)\n",
        "\n",
        "  # Defines circuit\n",
        "\n",
        "  wires = qubits\n",
        "  dev = qml.device(\"default.qubit\", wires=wires)\n",
        "\n",
        "\n",
        "  @qml.qnode(dev)\n",
        "  def energy_exp_val(theta):\n",
        "      qml.BasisState(hf, wires=range(wires))\n",
        "      qml.DoubleExcitation(theta, wires=range(wires))\n",
        "      return qml.expval(hamiltonian)\n",
        "\n",
        "  #Optimizes the energy_exp_val function\n",
        "\n",
        "  opt=qml.GradientDescentOptimizer(stepsize=0.4)\n",
        "  theta=np.array(0.0, requires_grad=True)\n",
        "\n",
        "  E = [energy_exp_val(theta)]\n",
        "  angle = [theta]\n",
        "\n",
        "  max_iterations = 75\n",
        "  con_tol = 1e-08\n",
        "\n",
        "  for n in range(max_iterations):\n",
        "      theta, prev_E = opt.step_and_cost(energy_exp_val, theta)\n",
        "      E.append(energy_exp_val(theta))\n",
        "      angle.append(theta)\n",
        "\n",
        "      if con_tol > abs(E[n+1]-E[n]):\n",
        "          break\n",
        "\n",
        "  return E[-1]\n",
        "\n",
        "\n",
        "# The function is called\n",
        "\n",
        "print(VQE_H2(np.array([0.0,0.0,0.0,0.0,0.0,0.7]).reshape(2,3)))"
      ],
      "metadata": {
        "colab": {
          "base_uri": "https://localhost:8080/"
        },
        "id": "aoHwrg3oH4Cp",
        "outputId": "2cedb4ba-c201-447c-f2bf-37f6ed136449"
      },
      "execution_count": 17,
      "outputs": [
        {
          "output_type": "stream",
          "name": "stdout",
          "text": [
            "-0.8463259816606505\n"
          ]
        }
      ]
    },
    {
      "cell_type": "markdown",
      "source": [
        "### (b)"
      ],
      "metadata": {
        "id": "Nam0gvh98e3h"
      }
    },
    {
      "cell_type": "code",
      "source": [
        "# Hamiltonian\n",
        "N = 4\n",
        "def hamiltonian(h):\n",
        "  H = []\n",
        "\n",
        "  for i in range(N):\n",
        "    if i == N-1:\n",
        "      H -= qml.PauliZ(i) @ qml.PauliZ(0)\n",
        "    else:\n",
        "      H -= qml.PauliZ(i) @ qml.PauliZ(i+1)\n",
        "    H -= h*qml.PauliX(i)\n",
        "  return(H)\n",
        "\n",
        "# Defines base state and device\n",
        "bs = [0,0,0,0]\n",
        "wires = N\n",
        "dev = qml.device(\"default.qubit\", wires=wires)\n",
        "\n",
        "# Function that returns ground state energy for a given magnetic field\n",
        "\n",
        "def VQE_Ising_Chain(h):\n",
        "\n",
        "# Defines circuit\n",
        "  @qml.qnode(dev)\n",
        "  def energy_exp_val(theta):\n",
        "    qml.BasisState(bs, wires=range(wires))\n",
        "\n",
        "    # Here it is define an entanglement using rotation gates combined with CNOT gates.\n",
        "    qml.BasicEntanglerLayers(weights=theta[0], wires=range(wires), rotation = qml.RX)\n",
        "    qml.BasicEntanglerLayers(weights=theta[1], wires=range(wires), rotation = qml.RY)\n",
        "    qml.BasicEntanglerLayers(weights=theta[2], wires=range(wires), rotation = qml.RZ)\n",
        "    return qml.expval(hamiltonian(h))\n",
        "\n",
        "# Optimizes circuit\n",
        "  opt=qml.GradientDescentOptimizer(stepsize=0.1)\n",
        "  theta=np.array([np.random.rand(1,4),np.random.rand(1,4),np.random.rand(1,4)], requires_grad=True)\n",
        "\n",
        "  E = [energy_exp_val(theta)]\n",
        "  angle = [theta]\n",
        "\n",
        "  max_iterations = 1000\n",
        "  con_tol = 1e-6\n",
        "\n",
        "  for n in range(max_iterations):\n",
        "      theta, prev_E = opt.step_and_cost(energy_exp_val, theta)\n",
        "      E.append(energy_exp_val(theta))\n",
        "      angle.append(theta)\n",
        "\n",
        "      if con_tol > abs(E[n+1]-E[n]):\n",
        "          break\n",
        "  return E[-1]\n",
        "\n",
        "\n",
        "#Function is called\n",
        "\n",
        "print(VQE_Ising_Chain(2.3))"
      ],
      "metadata": {
        "colab": {
          "base_uri": "https://localhost:8080/"
        },
        "id": "uljtlof68Zn6",
        "outputId": "dd2b302f-e542-407c-e3a6-3bea10a395d0"
      },
      "execution_count": 19,
      "outputs": [
        {
          "output_type": "stream",
          "name": "stdout",
          "text": [
            "-9.41701834645443\n"
          ]
        }
      ]
    },
    {
      "cell_type": "markdown",
      "source": [
        "### (c)"
      ],
      "metadata": {
        "id": "ciHdUtM09HVB"
      }
    },
    {
      "cell_type": "code",
      "source": [
        "# Defines sub-hamiltonians\n",
        "H_1 = qml.PauliX(0)@qml.PauliX(1)\n",
        "H_2 = qml.PauliZ(0)@qml.PauliZ(1)\n",
        "\n",
        "# Defines device\n",
        "wires = 2\n",
        "dev = qml.device('default.qubit', wires = wires)\n",
        "\n",
        "#Defines circuit\n",
        "\n",
        "@qml.qnode(dev)\n",
        "def trotter_U(alpha, beta, t, n):\n",
        "  t_n = t/n\n",
        "  for i in range(n):\n",
        "    qml.exp(H_1, -1j*alpha*t_n) @ qml.exp(H_2, -1j*alpha*t_n)\n",
        "  return qml.probs(wires = [0,1])\n",
        "\n",
        "# Function is called\n",
        "print(trotter_U(0.9,1.0,0.4,2))"
      ],
      "metadata": {
        "colab": {
          "base_uri": "https://localhost:8080/"
        },
        "id": "QB-Blkco9JXl",
        "outputId": "9681c71c-db89-4dd2-c8f8-8f6e7404d631"
      },
      "execution_count": 20,
      "outputs": [
        {
          "output_type": "stream",
          "name": "stdout",
          "text": [
            "[0.87590286 0.         0.         0.12409714]\n"
          ]
        }
      ]
    }
  ]
}
